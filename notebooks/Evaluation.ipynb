{
 "cells": [
  {
   "cell_type": "markdown",
   "metadata": {},
   "source": [
    "# Evaluation and metrics"
   ]
  },
  {
   "cell_type": "code",
   "execution_count": 2,
   "metadata": {},
   "outputs": [
    {
     "name": "stderr",
     "output_type": "stream",
     "text": [
      "Using TensorFlow backend.\n"
     ]
    },
    {
     "name": "stdout",
     "output_type": "stream",
     "text": [
      "('mean_features: ', array([ 0.86503507,  0.83272585,  0.72929356]))\n",
      "('std_features: ', array([ 0.01255889,  0.01785996,  0.05625756]))\n"
     ]
    }
   ],
   "source": [
    "import keras\n",
    "import sys\n",
    "sys.path.append('../')\n",
    "from datasets import CD_Dataset\n",
    "from models import Unet\n",
    "from utility import show_batches, from_categorical\n",
    "import numpy as np\n",
    "from datasets import combine_y_w\n",
    "import keras\n",
    "import time\n",
    "\n",
    "seed = int((time.time()*1e6)%1e6)\n",
    "np.random.seed(seed)\n",
    "keras.initializers.RandomNormal(mean=0.0, stddev=0.05, seed=seed)\n",
    "\n",
    "dataset_path = '../CD_Dataset'\n",
    "trained_models_path = '../trained_models'\n",
    "\n",
    "input_patch_size = [350,350]\n",
    "input_channels = [3]\n",
    "output_channels = [2]\n",
    "model_input_size = input_patch_size + input_channels\n",
    "\n",
    "dataset = CD_Dataset( path=dataset_path, train_y_path=\"train_y\",  eval_y_path=\"eval_y\",  fit=True, download=True, num_classes=output_channels[0] )\n",
    "\n",
    "means = dataset.mean_features()\n",
    "stds = dataset.std_features()"
   ]
  },
  {
   "cell_type": "code",
   "execution_count": null,
   "metadata": {},
   "outputs": [],
   "source": [
    "from scipy.ndimage.morphology import distance_transform_edt, binary_erosion\n",
    "\n",
    "def Pc(Y,Y_hat,tetha=5):\n",
    "    Bgt = Y - binary_erosion(Y,structure=np.ones((3,3)))\n",
    "    Bps = Y_hat - binary_erosion(Y_hat,structure=np.ones((3,3)))\n",
    "    D = distance_transform_edt(Bgt)\n",
    "    D_Bpd = D[Bps==1.0]\n",
    "    Nominator = len(D_Bpd[D_Bpd>tetha].flatten())\n",
    "    Denominator = len(Bgt[Bgt==1.0].flatten())\n",
    "    return Nominator/float(Denominator)\n",
    "    "
   ]
  },
  {
   "cell_type": "code",
   "execution_count": null,
   "metadata": {},
   "outputs": [],
   "source": []
  }
 ],
 "metadata": {
  "kernelspec": {
   "display_name": "Environment (conda_tensorflow_p27)",
   "language": "python",
   "name": "conda_tensorflow_p27"
  },
  "language_info": {
   "codemirror_mode": {
    "name": "ipython",
    "version": 2
   },
   "file_extension": ".py",
   "mimetype": "text/x-python",
   "name": "python",
   "nbconvert_exporter": "python",
   "pygments_lexer": "ipython2",
   "version": "2.7.14"
  }
 },
 "nbformat": 4,
 "nbformat_minor": 2
}
