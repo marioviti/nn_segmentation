{
 "cells": [
  {
   "cell_type": "markdown",
   "metadata": {},
   "source": [
    "# Unet_Train\n",
    "\n",
    "Training a UNET with basic paramters:\n",
    "\n",
    "* input_h,iput_w = 450,450\n",
    "* classes = 2\n",
    "* targets = train_y, eval_y\n"
   ]
  },
  {
   "cell_type": "code",
   "execution_count": 5,
   "metadata": {},
   "outputs": [],
   "source": [
    "input_patch_size = [450,450] # input patch (expect output to be smaller)\n",
    "input_channels = [3] # RGB\n",
    "output_channels = [2] #cell and bkg\n",
    "NBATCH = 5 # example patch per batch\n",
    "EPCS = 100 # epochs\n",
    "REG = True # regularization\n",
    "USEW = True # use weights\n",
    "W = 10 # importance of weights\n",
    "NAME_NET = 'MIMO_W100' # name for saving\n",
    "JT = True # Just train set means no evaluation during training \n",
    "\n",
    "dataset_path = '../CD_Dataset'\n",
    "trained_models_path = './trained_models'"
   ]
  },
  {
   "cell_type": "code",
   "execution_count": 4,
   "metadata": {},
   "outputs": [],
   "source": [
    "import keras\n",
    "import sys\n",
    "import matplotlib\n",
    "import numpy as np\n",
    "import time\n",
    "import matplotlib.pyplot as plt\n",
    "import os\n",
    "\n",
    "sys.path.append('../')\n",
    "\n",
    "from datasets import CD_Dataset\n",
    "from models import Unet\n",
    "from utility import show_batches, from_categorical, train, crop_receptive, predict_full_image\n",
    "from utility import dice, precision, Pc\n",
    "from datasets import combine_y_w\n",
    "from models import dice_coef, precision\n",
    "\n",
    "seed = int((time.time()*1e6)%1e6)\n",
    "np.random.seed(seed)\n",
    "keras.initializers.RandomNormal(mean=0.0, stddev=0.05, seed=seed)\n",
    "\n",
    "NAME_NET = os.path.join(trained_models_path,NAME_NET)"
   ]
  },
  {
   "cell_type": "code",
   "execution_count": null,
   "metadata": {},
   "outputs": [],
   "source": [
    "# Load the dataset\n",
    "dataset = CD_Dataset( path=dataset_path, \n",
    "                     train_y_path=\"train_y\",  \n",
    "                     eval_y_path=\"eval_y\", \n",
    "                     fit=True, \n",
    "                     download=True, \n",
    "                     num_classes=output_channels[0] )"
   ]
  },
  {
   "cell_type": "code",
   "execution_count": null,
   "metadata": {},
   "outputs": [],
   "source": [
    "# define your model\n",
    "model_input_size = input_patch_size + input_channels\n",
    "mimo = MimoNet(model_input_size, classes=output_channels[0], metrics=[dice_coef,precision], regularized=REG)\n",
    "model_output_size = list(mimo.outputs_shape[0])\n",
    "print(\"input size: {}\\noutput_size: {}\".format(model_input_size,model_output_size))"
   ]
  },
  {
   "cell_type": "code",
   "execution_count": null,
   "metadata": {},
   "outputs": [],
   "source": [
    "# Visualize some data\n",
    "means = dataset.mean_features()\n",
    "stds = dataset.std_features()\n",
    "xs,ys,ws= dataset.sample_X_Y_W_patch_batch(input_patch_size,n_batch=5,fit=False, rotate=False)\n",
    "xs_c = crop_receptive(xs,model_output_size[:2])\n",
    "ys_c = crop_receptive(ys,model_output_size[:2])\n",
    "ws_c = crop_receptive(np.expand_dims(ws,3),model_output_size[:2])\n",
    "ys_imgs_c = from_categorical(ys_c)\n",
    "show_batches([xs_c,ys_imgs_c,ws],[\"xs\",\"ys\",\"ws\"])"
   ]
  },
  {
   "cell_type": "code",
   "execution_count": null,
   "metadata": {},
   "outputs": [],
   "source": [
    "# Train your model\n",
    "histo = train(mimo,dataset,n_batch=NBATCH,epochs=EPCS,just_train=JT,use_weights=USEW, W=W, name=NAME_NET)"
   ]
  },
  {
   "cell_type": "code",
   "execution_count": null,
   "metadata": {},
   "outputs": [],
   "source": [
    "# Save model\n",
    "mimo.save_model(NAME_NET)\n",
    "eval_histo = np.array(histo[0])\n",
    "train_histo = np.array(histo[1])\n",
    "train_histo.dump(NAME_NET+'_train_histo.pkl')\n",
    "eval_histo.dump(NAME_NET+'_eval_histo.pkl')"
   ]
  },
  {
   "cell_type": "code",
   "execution_count": null,
   "metadata": {},
   "outputs": [],
   "source": [
    "# Load model\n",
    "mimo = MimoNet(model_input_size, classes=output_channels[0], metrics=[dice_coef,precision], regularized=REG)\n",
    "mimo.load_model(NAME_NET)\n",
    "train_histo = np.load(NAME_NET+'_train_histo.pkl')\n",
    "eval_histo = np.load(NAME_NET+'_eval_histo.pkl')"
   ]
  },
  {
   "cell_type": "code",
   "execution_count": null,
   "metadata": {},
   "outputs": [],
   "source": [
    "# Show results\n",
    "\n",
    "X,Y,W = dataset.get_X_Y_W(index=7,train=True)\n",
    "Y_hat,crops = predict_full_image(mimo,X)\n",
    "cropsh,cropsw = crops\n",
    "\n",
    "fig = matplotlib.pyplot.gcf()\n",
    "fig.set_size_inches(10.5, 10.5,forward=True)\n",
    "\n",
    "Yimg = from_categorical(np.expand_dims(Y,0))[0]\n",
    "\n",
    "plt.imshow(Yimg[cropsh[0]:cropsh[1],cropsw[0]:cropsw[1]])\n",
    "plt.show()\n",
    "\n",
    "\n",
    "fig = matplotlib.pyplot.gcf()\n",
    "fig.set_size_inches(10.5, 10.5,forward=True)\n",
    "plt.imshow(Y_hat[cropsh[0]:cropsh[1],cropsw[0]:cropsw[1]])\n",
    "plt.show()\n",
    "\n",
    "fig = matplotlib.pyplot.gcf()\n",
    "fig.set_size_inches(10.5, 10.5,forward=True)\n",
    "plt.imshow(X[cropsh[0]:cropsh[1],cropsw[0]:cropsw[1]]*stds + means)\n",
    "plt.show()\n",
    "\n",
    "dice_s = dice(Yimg[cropsh[0]:cropsh[1],cropsw[0]:cropsw[1]],Y_hat[cropsh[0]:cropsh[1],cropsw[0]:cropsw[1]])\n",
    "precision_s = precision(Yimg[cropsh[0]:cropsh[1],cropsw[0]:cropsw[1]],Y_hat[cropsh[0]:cropsh[1],cropsw[0]:cropsw[1]])\n",
    "Pc_s = Pc(Yimg[cropsh[0]:cropsh[1],cropsw[0]:cropsw[1]],Y_hat[cropsh[0]:cropsh[1],cropsw[0]:cropsw[1]])\n",
    "\n",
    "table = [[\"dice\",dice_s],\n",
    "         [\"Precision\",precision_s],\n",
    "         [\"Pc\",Pc_s]]\n",
    "print(table)"
   ]
  }
 ],
 "metadata": {
  "kernelspec": {
   "display_name": "Environment (conda_tensorflow_p27)",
   "language": "python",
   "name": "conda_tensorflow_p27"
  },
  "language_info": {
   "codemirror_mode": {
    "name": "ipython",
    "version": 2
   },
   "file_extension": ".py",
   "mimetype": "text/x-python",
   "name": "python",
   "nbconvert_exporter": "python",
   "pygments_lexer": "ipython2",
   "version": "2.7.14"
  }
 },
 "nbformat": 4,
 "nbformat_minor": 2
}
