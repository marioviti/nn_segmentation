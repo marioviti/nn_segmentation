{
 "cells": [
  {
   "cell_type": "markdown",
   "metadata": {},
   "source": [
    "# Training MIMOnet\n",
    "\n",
    "MIMO: Multiple Input Multiple Outputs."
   ]
  },
  {
   "cell_type": "code",
   "execution_count": null,
   "metadata": {},
   "outputs": [],
   "source": [
    "input_patch_size = [350,350] # input patch (expect output to be smaller)\n",
    "input_channels = [3] # RGB\n",
    "output_channels = [2] #cell and bkg\n",
    "NBATCH = 3 # example patch per batch\n",
    "EPCS = 200 # epochs\n",
    "REG = False # regularization\n",
    "USEW = False # use weights\n",
    "NAME_NET = 'Unet_1' # name for saving\n",
    "JT = False # Just train set means no evaluation during training "
   ]
  }
 ],
 "metadata": {
  "kernelspec": {
   "display_name": "Environment (conda_tensorflow_p27)",
   "language": "python",
   "name": "conda_tensorflow_p27"
  },
  "language_info": {
   "codemirror_mode": {
    "name": "ipython",
    "version": 2
   },
   "file_extension": ".py",
   "mimetype": "text/x-python",
   "name": "python",
   "nbconvert_exporter": "python",
   "pygments_lexer": "ipython2",
   "version": "2.7.14"
  }
 },
 "nbformat": 4,
 "nbformat_minor": 2
}
